{
 "cells": [
  {
   "cell_type": "code",
   "execution_count": 1,
   "metadata": {
    "scrolled": false
   },
   "outputs": [],
   "source": [
    "import numpy as np \n",
    "import pandas as pd\n",
    "import sys\n",
    "import tensorflow as tf\n",
    "from sklearn.metrics import average_precision_score, confusion_matrix\n",
    "from sklearn.model_selection import train_test_split\n",
    "from tensorflow.keras import layers\n",
    "from transformers import (AutoModelForMaskedLM, AutoTokenizer, BertConfig,\n",
    "                          BertTokenizer, TFBertModel)\n",
    "import transformers\n",
    "from pprint import pprint\n",
    "import warnings\n",
    "\n",
    "warnings.filterwarnings('ignore')\n",
    "\n",
    "max_len=160\n",
    "num_tags=2\n",
    "\n",
    "split_df=pd.read_csv('DataSet/QDS-Dataset1_Annotation.csv')"
   ]
  },
  {
   "cell_type": "code",
   "execution_count": 2,
   "metadata": {},
   "outputs": [
    {
     "data": {
      "text/html": [
       "<div>\n",
       "<style scoped>\n",
       "    .dataframe tbody tr th:only-of-type {\n",
       "        vertical-align: middle;\n",
       "    }\n",
       "\n",
       "    .dataframe tbody tr th {\n",
       "        vertical-align: top;\n",
       "    }\n",
       "\n",
       "    .dataframe thead th {\n",
       "        text-align: right;\n",
       "    }\n",
       "</style>\n",
       "<table border=\"1\" class=\"dataframe\">\n",
       "  <thead>\n",
       "    <tr style=\"text-align: right;\">\n",
       "      <th></th>\n",
       "      <th>0</th>\n",
       "    </tr>\n",
       "  </thead>\n",
       "  <tbody>\n",
       "    <tr>\n",
       "      <th>count</th>\n",
       "      <td>4351.000000</td>\n",
       "    </tr>\n",
       "    <tr>\n",
       "      <th>mean</th>\n",
       "      <td>108.821191</td>\n",
       "    </tr>\n",
       "    <tr>\n",
       "      <th>std</th>\n",
       "      <td>104.763740</td>\n",
       "    </tr>\n",
       "    <tr>\n",
       "      <th>min</th>\n",
       "      <td>2.000000</td>\n",
       "    </tr>\n",
       "    <tr>\n",
       "      <th>25%</th>\n",
       "      <td>24.000000</td>\n",
       "    </tr>\n",
       "    <tr>\n",
       "      <th>50%</th>\n",
       "      <td>79.000000</td>\n",
       "    </tr>\n",
       "    <tr>\n",
       "      <th>75%</th>\n",
       "      <td>158.000000</td>\n",
       "    </tr>\n",
       "    <tr>\n",
       "      <th>max</th>\n",
       "      <td>976.000000</td>\n",
       "    </tr>\n",
       "  </tbody>\n",
       "</table>\n",
       "</div>"
      ],
      "text/plain": [
       "                 0\n",
       "count  4351.000000\n",
       "mean    108.821191\n",
       "std     104.763740\n",
       "min       2.000000\n",
       "25%      24.000000\n",
       "50%      79.000000\n",
       "75%     158.000000\n",
       "max     976.000000"
      ]
     },
     "metadata": {},
     "output_type": "display_data"
    },
    {
     "data": {
      "text/plain": [
       "<AxesSubplot:ylabel='Frequency'>"
      ]
     },
     "execution_count": 2,
     "metadata": {},
     "output_type": "execute_result"
    },
    {
     "data": {
      "image/png": "[encoded data removed]",
      "text/plain": [
       "<Figure size 432x288 with 1 Axes>"
      ]
     },
     "metadata": {
      "needs_background": "light"
     },
     "output_type": "display_data"
    }
   ],
   "source": [
    "# split by sentence\n",
    "X=' '.join(split_df['Word'].values)\n",
    "X=X.split(' . ')\n",
    "\n",
    "y=' '.join(split_df['label'].values)\n",
    "y=y.split(' 999 ')\n",
    "y=[label.split(' ') for label in y]\n",
    "\n",
    "# print(np.array(X[:3])) # lets take a look at the X \n",
    "                       # here i hide the output because the dataset is private\n",
    "\n",
    "display(pd.DataFrame([len(x) for x in X]).describe())  \n",
    "pd.DataFrame([len(x) for x in X]).plot(kind='hist',bins=60)"
   ]
  },
  {
   "cell_type": "code",
   "execution_count": 3,
   "metadata": {},
   "outputs": [],
   "source": [
    "def tokenize_data(data,max_len=64):\n",
    "    tokenizer = BertTokenizer.from_pretrained(\"cambridgeltl/BioRedditBERT-uncased\")\n",
    "    encoded = tokenizer.batch_encode_plus(\n",
    "        data,\n",
    "        add_special_tokens=True,\n",
    "        max_length=max_len,\n",
    "        return_attention_mask=True,\n",
    "        return_token_type_ids=True,\n",
    "        pad_to_max_length=True,\n",
    "        return_tensors=\"tf\",\n",
    "        truncation=True\n",
    "    )\n",
    "\n",
    "    return np.array(encoded[\"input_ids\"], dtype=\"int32\")\n",
    "\n",
    "# tokenize X\n",
    "X=tokenize_data(X,max_len=max_len)\n",
    "\n",
    "# train test split by sentence\n",
    "X_train, X_test, y_train, y_test = train_test_split(X, y, test_size=0.3, random_state=42)\n",
    "\n",
    "# padding labels\n",
    "y_train_pad = tf.keras.preprocessing.sequence.pad_sequences(y_train, \n",
    "                                                            padding=\"post\",\n",
    "                                                            maxlen=max_len,\n",
    "                                                            value=num_tags) # we use a different lable for padding tags\n",
    "y_test_pad = tf.keras.preprocessing.sequence.pad_sequences(y_test, \n",
    "                                                            padding=\"post\",\n",
    "                                                            maxlen=max_len,\n",
    "                                                            value=num_tags) # we use a different lable for padding tags\n",
    "\n",
    "# X_train[:2]"
   ]
  },
  {
   "cell_type": "code",
   "execution_count": 4,
   "metadata": {},
   "outputs": [
    {
     "name": "stderr",
     "output_type": "stream",
     "text": [
      "All model checkpoint layers were used when initializing TFBertModel.\n",
      "\n",
      "All the layers of TFBertModel were initialized from the model checkpoint at cambridgeltl/BioRedditBERT-uncased.\n",
      "If your task is similar to the task the model of the checkpoint was trained on, you can already use TFBertModel for predictions without further training.\n"
     ]
    },
    {
     "name": "stdout",
     "output_type": "stream",
     "text": [
      "WARNING:tensorflow:The parameters `output_attentions`, `output_hidden_states` and `use_cache` cannot be updated when calling a model.They have to be set to True/False in the config object (i.e.: `config=XConfig.from_pretrained('name', output_attentions=True)`).\n",
      "WARNING:tensorflow:AutoGraph could not transform <bound method Socket.send of <zmq.sugar.socket.Socket object at 0x00000287E6BCC820>> and will run it as-is.\n",
      "Please report this to the TensorFlow team. When filing the bug, set the verbosity to 10 (on Linux, `export AUTOGRAPH_VERBOSITY=10`) and attach the full output.\n",
      "Cause: module, class, method, function, traceback, frame, or code object was expected, got cython_function_or_method\n",
      "To silence this warning, decorate the function with @tf.autograph.experimental.do_not_convert\n",
      "WARNING: AutoGraph could not transform <bound method Socket.send of <zmq.sugar.socket.Socket object at 0x00000287E6BCC820>> and will run it as-is.\n",
      "Please report this to the TensorFlow team. When filing the bug, set the verbosity to 10 (on Linux, `export AUTOGRAPH_VERBOSITY=10`) and attach the full output.\n",
      "Cause: module, class, method, function, traceback, frame, or code object was expected, got cython_function_or_method\n",
      "To silence this warning, decorate the function with @tf.autograph.experimental.do_not_convert\n",
      "WARNING:tensorflow:The parameter `return_dict` cannot be set in graph mode and will always be set to `True`.\n",
      "WARNING:tensorflow:From C:\\Users\\alex.w\\AppData\\Roaming\\Python\\Python38\\site-packages\\tensorflow\\python\\ops\\array_ops.py:5043: calling gather (from tensorflow.python.ops.array_ops) with validate_indices is deprecated and will be removed in a future version.\n",
      "Instructions for updating:\n",
      "The `validate_indices` argument has no effect. Indices are always validated on CPU and never validated on GPU.\n",
      "Model: \"model\"\n",
      "_________________________________________________________________\n",
      "Layer (type)                 Output Shape              Param #   \n",
      "=================================================================\n",
      "input_ids (InputLayer)       [(None, 160)]             0         \n",
      "_________________________________________________________________\n",
      "tf_bert_model (TFBertModel)  TFBaseModelOutputWithPool 108310272 \n",
      "_________________________________________________________________\n",
      "bidirectional (Bidirectional (None, 160, 128)          426496    \n",
      "_________________________________________________________________\n",
      "dropout_37 (Dropout)         (None, 160, 128)          0         \n",
      "_________________________________________________________________\n",
      "dense (Dense)                (None, 160, 3)            387       \n",
      "=================================================================\n",
      "Total params: 108,737,155\n",
      "Trainable params: 426,883\n",
      "Non-trainable params: 108,310,272\n",
      "_________________________________________________________________\n"
     ]
    }
   ],
   "source": [
    "# load bert\n",
    "def bert(num_tags=2,max_len=64):\n",
    "    input_ids = tf.keras.layers.Input(shape=(max_len), dtype=tf.int32, name=\"input_ids\")\n",
    "\n",
    "    embedding = transformers.TFBertModel.from_pretrained(\"cambridgeltl/BioRedditBERT-uncased\")\n",
    "    embedding.trainable = False    # we dont want to train embedding\n",
    "\n",
    "    sequence_output = embedding(input_ids)\n",
    "\n",
    "    bi_lstm = tf.keras.layers.Bidirectional(tf.keras.layers.LSTM(64, return_sequences=True))(sequence_output[0])\n",
    "    dropout = tf.keras.layers.Dropout(0.3)(bi_lstm)\n",
    "    output = tf.keras.layers.Dense(num_tags, activation=\"softmax\")(dropout)\n",
    "\n",
    "    model = tf.keras.models.Model(inputs=[input_ids], outputs=output)\n",
    "\n",
    "    model.compile(\n",
    "        optimizer=tf.keras.optimizers.Adam(),\n",
    "        loss=\"sparse_categorical_crossentropy\",\n",
    "    )\n",
    "    return model\n",
    "\n",
    "model = bert(num_tags+1,max_len) # num of true tag + 1 (padding tag)\n",
    "model.summary()"
   ]
  },
  {
   "cell_type": "code",
   "execution_count": 5,
   "metadata": {},
   "outputs": [
    {
     "name": "stdout",
     "output_type": "stream",
     "text": [
      "Epoch 1/10\n",
      "WARNING:tensorflow:The parameters `output_attentions`, `output_hidden_states` and `use_cache` cannot be updated when calling a model.They have to be set to True/False in the config object (i.e.: `config=XConfig.from_pretrained('name', output_attentions=True)`).\n",
      "WARNING:tensorflow:The parameter `return_dict` cannot be set in graph mode and will always be set to `True`.\n",
      "WARNING:tensorflow:The parameters `output_attentions`, `output_hidden_states` and `use_cache` cannot be updated when calling a model.They have to be set to True/False in the config object (i.e.: `config=XConfig.from_pretrained('name', output_attentions=True)`).\n",
      "WARNING:tensorflow:The parameter `return_dict` cannot be set in graph mode and will always be set to `True`.\n",
      "1/1 [==============================] - 42s 42s/step - loss: 1.1681\n",
      "Epoch 2/10\n",
      "1/1 [==============================] - 10s 10s/step - loss: 0.1588\n",
      "Epoch 3/10\n",
      "1/1 [==============================] - 9s 9s/step - loss: 0.0889\n",
      "Epoch 4/10\n",
      "1/1 [==============================] - 10s 10s/step - loss: 0.0759\n",
      "Epoch 5/10\n",
      "1/1 [==============================] - 11s 11s/step - loss: 0.0622\n",
      "Epoch 6/10\n",
      "1/1 [==============================] - 12s 12s/step - loss: 0.0507\n",
      "Epoch 7/10\n",
      "1/1 [==============================] - 10s 10s/step - loss: 0.0477\n",
      "Epoch 8/10\n",
      "1/1 [==============================] - 12s 12s/step - loss: 0.0476\n",
      "Epoch 9/10\n",
      "1/1 [==============================] - 13s 13s/step - loss: 0.0421\n",
      "Epoch 10/10\n",
      "1/1 [==============================] - 13s 13s/step - loss: 0.0355\n"
     ]
    }
   ],
   "source": [
    "epochs=10\n",
    "batch_size=128\n",
    "\n",
    "# we just want to use a small part of the data to test our code\n",
    "X_train=X_train[:5]\n",
    "y_train_pad=y_train_pad[:5]\n",
    "\n",
    "history = model.fit(X_train,\n",
    "                    y_train_pad.reshape(y_train_pad.shape[0], y_train_pad.shape[1], 1),\n",
    "                    epochs=epochs,\n",
    "                    batch_size=batch_size,\n",
    "                    verbose=1)"
   ]
  },
  {
   "cell_type": "code",
   "execution_count": 7,
   "metadata": {},
   "outputs": [
    {
     "data": {
      "text/plain": [
       "array([[[5.1204395e-01, 2.0236671e-02, 4.6771944e-01],\n",
       "        [5.2603412e-01, 1.8217130e-02, 4.5574871e-01],\n",
       "        [4.5599598e-01, 1.6974175e-02, 5.2702981e-01],\n",
       "        ...,\n",
       "        [8.8739040e-04, 6.7935907e-04, 9.9843329e-01],\n",
       "        [1.0778067e-03, 8.9960301e-04, 9.9802256e-01],\n",
       "        [1.9969638e-03, 2.2569208e-03, 9.9574608e-01]],\n",
       "\n",
       "       [[6.0074025e-01, 3.7279062e-02, 3.6198071e-01],\n",
       "        [7.8683174e-01, 2.6833449e-02, 1.8633489e-01],\n",
       "        [5.8251339e-01, 2.0355290e-02, 3.9713123e-01],\n",
       "        ...,\n",
       "        [8.8784593e-04, 6.7776430e-04, 9.9843436e-01],\n",
       "        [1.0796717e-03, 8.9706603e-04, 9.9802327e-01],\n",
       "        [2.0049000e-03, 2.2584354e-03, 9.9573660e-01]],\n",
       "\n",
       "       [[6.4482647e-01, 2.2968255e-02, 3.3220536e-01],\n",
       "        [6.2293416e-01, 1.3461519e-02, 3.6360425e-01],\n",
       "        [6.6157883e-01, 1.1233499e-02, 3.2718763e-01],\n",
       "        ...,\n",
       "        [9.0898294e-04, 6.7134260e-04, 9.9841964e-01],\n",
       "        [1.1050291e-03, 8.8552956e-04, 9.9800950e-01],\n",
       "        [2.0515164e-03, 2.2350606e-03, 9.9571347e-01]],\n",
       "\n",
       "       [[4.0153819e-01, 1.3673045e-02, 5.8478874e-01],\n",
       "        [4.1620624e-01, 1.1548779e-02, 5.7224500e-01],\n",
       "        [4.9272162e-01, 9.3924990e-03, 4.9788585e-01],\n",
       "        ...,\n",
       "        [8.8654907e-04, 6.6936057e-04, 9.9844414e-01],\n",
       "        [1.0760088e-03, 8.8678877e-04, 9.9803716e-01],\n",
       "        [1.9928033e-03, 2.2409377e-03, 9.9576628e-01]],\n",
       "\n",
       "       [[3.3876958e-01, 1.1796825e-02, 6.4943361e-01],\n",
       "        [4.8084682e-01, 8.3103850e-03, 5.1084280e-01],\n",
       "        [4.6915457e-01, 9.0121133e-03, 5.2183336e-01],\n",
       "        ...,\n",
       "        [8.9113449e-04, 6.6431443e-04, 9.9844462e-01],\n",
       "        [1.0808549e-03, 8.8108180e-04, 9.9803811e-01],\n",
       "        [2.0067010e-03, 2.2400951e-03, 9.9575317e-01]]], dtype=float32)"
      ]
     },
     "execution_count": 7,
     "metadata": {},
     "output_type": "execute_result"
    }
   ],
   "source": [
    "y_pre=model.predict(X_test[:5])\n",
    "y_pre"
   ]
  }
 ],
 "metadata": {
  "kernelspec": {
   "display_name": "Python 3",
   "language": "python",
   "name": "python3"
  },
  "language_info": {
   "codemirror_mode": {
    "name": "ipython",
    "version": 3
   },
   "file_extension": ".py",
   "mimetype": "text/x-python",
   "name": "python",
   "nbconvert_exporter": "python",
   "pygments_lexer": "ipython3",
   "version": "3.8.5"
  }
 },
 "nbformat": 4,
 "nbformat_minor": 4
}